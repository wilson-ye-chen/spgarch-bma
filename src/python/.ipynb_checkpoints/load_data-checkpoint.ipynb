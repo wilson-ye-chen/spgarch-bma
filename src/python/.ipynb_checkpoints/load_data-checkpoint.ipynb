{
 "cells": [
  {
   "cell_type": "code",
   "execution_count": 3,
   "id": "67b8c0d3",
   "metadata": {},
   "outputs": [],
   "source": [
    "import numpy as np\n",
    "import matplotlib.pyplot as plt\n",
    "from scipy.io import loadmat"
   ]
  },
  {
   "cell_type": "code",
   "execution_count": 5,
   "id": "456afe93",
   "metadata": {},
   "outputs": [
    {
     "name": "stdout",
     "output_type": "stream",
     "text": [
      "(4001, 500)\n"
     ]
    }
   ],
   "source": [
    "# Load simulated data\n",
    "dgp1 = loadmat('../spgarch/data_dgp1.mat')\n",
    "r_dgp1 = dgp1['R']\n",
    "s_dgp1 = dgp1['Sigma']\n",
    "print(r_dgp1.shape)"
   ]
  },
  {
   "cell_type": "code",
   "execution_count": null,
   "id": "d71608a1",
   "metadata": {},
   "outputs": [],
   "source": [
    "# Plot the first simulated return and volatility series\n",
    "plt.figure(figsize=(6, 5))\n",
    "plt.plot(r_dgp1[:, 1], '.', label='Return')\n",
    "plt.plot(s_dgp1[:, 1], '-', label='Volatility')\n",
    "plt.xlabel('$t$', fontsize=12)\n",
    "plt.ylabel('$r_t$', fontsize=12)\n",
    "plt.legend(loc='upper left', fontsize=12)\n",
    "plt.show()"
   ]
  },
  {
   "cell_type": "code",
   "execution_count": null,
   "id": "80327610",
   "metadata": {},
   "outputs": [],
   "source": [
    "# Load Intel data\n",
    "intc = loadmat('../spgarch/data_intc.mat')\n",
    "r_intc = intc['r']\n",
    "plt.figure(figsize=(6, 5))\n",
    "plt.plot(r_intc, '.', label='Intel')\n",
    "plt.xlabel('$t$', fontsize=12)\n",
    "plt.ylabel('$r_t$', fontsize=12)\n",
    "plt.title('Intel Returns', fontsize=14)\n",
    "plt.show()"
   ]
  },
  {
   "cell_type": "code",
   "execution_count": null,
   "id": "f5120f70",
   "metadata": {},
   "outputs": [],
   "source": [
    "# Load estimation results of SPGARCH on DGP1 (500 batches)\n",
    "#\n",
    "# L:   2.5% posterior quantile of parameters (nu, mu, omega).\n",
    "# U:   97.5% posterior quantile of parameters (nu, mu, omega).\n",
    "# M:   posterior mean of parameters (nu, mu, omega).\n",
    "# S:   posterior SD of parameters (nu, mu, omega).\n",
    "# Sig: estimated volatility series.\n",
    "# x:   points at which the estimated g function is evaluated.\n",
    "# Y:   values of the estimated g function at x.\n",
    "# Pk:  estimated posterior probabilities of knot inclusion.\n",
    "# acc: acceptance rates\n",
    "#\n",
    "spgarch_dgp1 = loadmat('../ppr/spgarch_dgp1.mat')\n",
    "plt.figure(figsize=(6, 5))\n",
    "x = np.ravel(spgarch_dgp1['x'])\n",
    "y = np.mean(spgarch_dgp1['Y'], axis=0)\n",
    "l = np.quantile(spgarch_dgp1['Y'], q=0.025, axis=0)\n",
    "u = np.quantile(spgarch_dgp1['Y'], q=0.975, axis=0)\n",
    "plt.plot(x, y, 'r-')\n",
    "plt.plot(x, l, '--')\n",
    "plt.plot(x, u, '--')\n",
    "plt.xlabel('$\\epsilon$', fontsize=12)\n",
    "plt.ylabel('$g(\\epsilon)$', fontsize=12)\n",
    "plt.title('SP-GARCH | DGP1', fontsize=14)\n",
    "plt.show()"
   ]
  },
  {
   "cell_type": "code",
   "execution_count": null,
   "id": "af076c53",
   "metadata": {},
   "outputs": [],
   "source": []
  }
 ],
 "metadata": {
  "kernelspec": {
   "display_name": "Python 3 (ipykernel)",
   "language": "python",
   "name": "python3"
  },
  "language_info": {
   "codemirror_mode": {
    "name": "ipython",
    "version": 3
   },
   "file_extension": ".py",
   "mimetype": "text/x-python",
   "name": "python",
   "nbconvert_exporter": "python",
   "pygments_lexer": "ipython3",
   "version": "3.8.13"
  }
 },
 "nbformat": 4,
 "nbformat_minor": 5
}
